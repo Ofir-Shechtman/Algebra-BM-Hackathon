{
 "cells": [
  {
   "cell_type": "code",
   "execution_count": 1,
   "metadata": {},
   "outputs": [
    {
     "data": {
      "application/vnd.jupyter.widget-view+json": {
       "model_id": "711c19bd709c48bfb8baf8f215e176e8",
       "version_major": 2,
       "version_minor": 0
      },
      "text/plain": [
       "interactive(children=(IntSlider(value=2, continuous_update=False, description='Matrix Dim:', max=10), Output()…"
      ]
     },
     "metadata": {},
     "output_type": "display_data"
    }
   ],
   "source": [
    "%load_ext autoreload\n",
    "%autoreload 2\n",
    "%reload_ext autoreload\n",
    "\n",
    "\n",
    "from __future__ import print_function\n",
    "from ipywidgets import interact, interactive, fixed, interact_manual\n",
    "import ipywidgets as widgets\n",
    "import numpy as np\n",
    "from ipywidgets import GridspecLayout, Button, Layout\n",
    "import print_functions as pf\n",
    "import array_to_latex as a2l\n",
    "from IPython.display import Latex, display\n",
    "import matrix as m\n",
    "\n",
    "gs = None\n",
    "n = None\n",
    "\n",
    "def f(n_features) : \n",
    "    global gs\n",
    "    n=n_features\n",
    "    gs = GridspecLayout(n_features, n_features, layout=Layout(width=f'{n_features*90}px', height='auto'))\n",
    "    for i in range(n_features):\n",
    "        for j in range(n_features):\n",
    "            gs[i, j] = widgets.FloatText(layout=Layout(width='80px', height='auto'))\n",
    "    return gs\n",
    "\n",
    "n_features_slider = widgets.IntSlider(\n",
    "    value=2,\n",
    "    min=0,\n",
    "    max=10,\n",
    "    step=1,\n",
    "    description='Matrix Dim:',\n",
    "    disabled=False,\n",
    "    continuous_update=False,\n",
    "    orientation='horizontal',\n",
    "    readout=True,\n",
    "    readout_format='d'\n",
    ")\n",
    "\n",
    "x=interact(f,n_features=n_features_slider)\n",
    "\n",
    "\n"
   ]
  },
  {
   "cell_type": "code",
   "execution_count": 3,
   "metadata": {
    "scrolled": true
   },
   "outputs": [
    {
     "name": "stdout",
     "output_type": "stream",
     "text": [
      "[[6.0, 7.0, 0.0], [0.0, 0.0, 9.0], [0.0, 0.0, 22.0]]\n"
     ]
    },
    {
     "data": {
      "text/latex": [
       "\\begin{pmatrix}\n",
       "  6.000000 &  7.000000 &  0.000000\\\\\n",
       "  0.000000 &  0.000000 &  9.000000\\\\\n",
       "  0.000000 &  0.000000 &  22.000000\n",
       "\\end{pmatrix}"
      ],
      "text/plain": [
       "<IPython.core.display.Latex object>"
      ]
     },
     "metadata": {},
     "output_type": "display_data"
    },
    {
     "data": {
      "text/plain": [
       "<IPython.core.display.Latex object>"
      ]
     },
     "metadata": {},
     "output_type": "display_data"
    },
    {
     "name": "stdout",
     "output_type": "stream",
     "text": [
      "<bound method Matrix.getJordanForm of <matrix.Matrix object at 0x05A81CD0>>\n"
     ]
    },
    {
     "ename": "NameError",
     "evalue": "name 'k' is not defined",
     "output_type": "error",
     "traceback": [
      "\u001b[1;31m---------------------------------------------------------------------------\u001b[0m",
      "\u001b[1;31mNameError\u001b[0m                                 Traceback (most recent call last)",
      "\u001b[1;32m<ipython-input-3-4bf9415c4f90>\u001b[0m in \u001b[0;36m<module>\u001b[1;34m\u001b[0m\n\u001b[0;32m     14\u001b[0m \u001b[1;31m#j\u001b[0m\u001b[1;33m\u001b[0m\u001b[1;33m\u001b[0m\u001b[1;33m\u001b[0m\u001b[0m\n\u001b[0;32m     15\u001b[0m \u001b[1;31m#k = np.array(j)\u001b[0m\u001b[1;33m\u001b[0m\u001b[1;33m\u001b[0m\u001b[1;33m\u001b[0m\u001b[0m\n\u001b[1;32m---> 16\u001b[1;33m \u001b[0mk\u001b[0m\u001b[1;33m\u001b[0m\u001b[1;33m\u001b[0m\u001b[0m\n\u001b[0m\u001b[0;32m     17\u001b[0m \u001b[1;31m#display(pf.Latex(pf.print_matrix(k)))\u001b[0m\u001b[1;33m\u001b[0m\u001b[1;33m\u001b[0m\u001b[1;33m\u001b[0m\u001b[0m\n\u001b[0;32m     18\u001b[0m \u001b[1;33m\u001b[0m\u001b[0m\n",
      "\u001b[1;31mNameError\u001b[0m: name 'k' is not defined"
     ]
    }
   ],
   "source": [
    "\n",
    "gs_values = []\n",
    "for i in (range(n_features_slider.value)):\n",
    "    gs_values_row = []\n",
    "    for j in reversed(range(n_features_slider.value)):\n",
    "        gs_values_row.append(gs[i,j].value)\n",
    "    gs_values.append(gs_values_row)\n",
    "gs_array=np.asarray(gs_values)\n",
    "print(gs_values)\n",
    "gs_array2 = np.array(gs_values)\n",
    "\n",
    "display(pf.Latex(pf.print_matrix(gs_array2)))\n",
    "\n",
    "mat = m.Matrix(gs_array2)\n",
    "j = mat.getJordanForm\n",
    "print(j)\n",
    "#j\n",
    "#k = np.array(j)\n",
    "k\n",
    "#display(pf.Latex(pf.print_matrix(k)))\n",
    "\n"
   ]
  },
  {
   "cell_type": "code",
   "execution_count": null,
   "metadata": {},
   "outputs": [],
   "source": []
  },
  {
   "cell_type": "code",
   "execution_count": null,
   "metadata": {},
   "outputs": [],
   "source": []
  },
  {
   "cell_type": "code",
   "execution_count": null,
   "metadata": {},
   "outputs": [],
   "source": []
  }
 ],
 "metadata": {
  "kernelspec": {
   "display_name": "Python 3",
   "language": "python",
   "name": "python3"
  },
  "language_info": {
   "codemirror_mode": {
    "name": "ipython",
    "version": 3
   },
   "file_extension": ".py",
   "mimetype": "text/x-python",
   "name": "python",
   "nbconvert_exporter": "python",
   "pygments_lexer": "ipython3",
   "version": "3.8.3"
  }
 },
 "nbformat": 4,
 "nbformat_minor": 4
}
