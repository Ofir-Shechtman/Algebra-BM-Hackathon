{
 "cells": [
  {
   "cell_type": "code",
   "execution_count": 1,
   "metadata": {},
   "outputs": [
    {
     "data": {
      "text/html": [
       "<style> body { direction: ltr; } </style>"
      ],
      "text/plain": [
       "<IPython.core.display.HTML object>"
      ]
     },
     "metadata": {},
     "output_type": "display_data"
    },
    {
     "data": {
      "application/vnd.jupyter.widget-view+json": {
       "model_id": "ebc708af2efb4ae6a272b3ae6eba4a5a",
       "version_major": 2,
       "version_minor": 0
      },
      "text/plain": [
       "interactive(children=(IntSlider(value=5, continuous_update=False, description='Matrix Dimension:', layout=Layo…"
      ]
     },
     "metadata": {},
     "output_type": "display_data"
    }
   ],
   "source": [
    "from ipywidgets import interact, interact_manual\n",
    "import ipywidgets as widgets\n",
    "import numpy as np\n",
    "from ipywidgets import GridspecLayout, Layout\n",
    "from IPython.display import HTML, display\n",
    "\n",
    "display(HTML(r'<style> body { direction: ltr; } </style>'))\n",
    "\n",
    "n = None\n",
    "\n",
    "def create_grid(n_features) : \n",
    "    global gs\n",
    "    n=n_features\n",
    "    gs = GridspecLayout(n_features, n_features, layout=Layout(width=f'{n_features*90}px', height='auto'))\n",
    "    for i in range(n_features):\n",
    "        for j in range(n_features):\n",
    "            gs[i, j] = widgets.FloatText(layout=Layout(width='80px', height='auto'))\n",
    "    return gs\n",
    "\n",
    "n_features_slider = widgets.IntSlider(\n",
    "    value=5,\n",
    "    min=2,\n",
    "    max=10,\n",
    "    step=1,\n",
    "    description='Matrix Dimension:',\n",
    "    disabled=False,\n",
    "    continuous_update=False,\n",
    "    orientation='horizontal',\n",
    "    readout=True,\n",
    "    readout_format='d',\n",
    "    layout={'width': '350px'},\n",
    "    style={'description_width': 'initial'}\n",
    ")\n",
    "\n",
    "x=interact(create_grid,n_features=n_features_slider)"
   ]
  },
  {
   "cell_type": "code",
   "execution_count": 2,
   "metadata": {
    "scrolled": true
   },
   "outputs": [
    {
     "name": "stdout",
     "output_type": "stream",
     "text": [
      "[[0. 0. 0. 0. 0.]\n",
      " [0. 0. 0. 0. 0.]\n",
      " [0. 0. 0. 0. 0.]\n",
      " [0. 0. 0. 0. 0.]\n",
      " [0. 0. 0. 0. 0.]]\n"
     ]
    }
   ],
   "source": [
    "gs_values = []\n",
    "for i in range(n_features_slider.value):\n",
    "    gs_values_row = []\n",
    "    for j in range(n_features_slider.value):\n",
    "        gs_values_row.append(gs[i,j].value)\n",
    "    gs_values.append(gs_values_row)\n",
    "gs_array=np.asarray(gs_values)\n",
    "print(gs_array)\n"
   ]
  },
  {
   "cell_type": "code",
   "execution_count": 3,
   "metadata": {},
   "outputs": [
    {
     "data": {
      "application/vnd.jupyter.widget-view+json": {
       "model_id": "6b38926999c04cfbbfd3be64c79dc42e",
       "version_major": 2,
       "version_minor": 0
      },
      "text/plain": [
       "Button(description='calculate', style=ButtonStyle())"
      ]
     },
     "metadata": {},
     "output_type": "display_data"
    },
    {
     "data": {
      "application/vnd.jupyter.widget-view+json": {
       "model_id": "57585a4721714851bf84f1400a648a5e",
       "version_major": 2,
       "version_minor": 0
      },
      "text/plain": [
       "Accordion(children=(Output(), Output()), _titles={'0': 'spectral decomposition', '1': 'jordan decomposition'})"
      ]
     },
     "metadata": {},
     "output_type": "display_data"
    }
   ],
   "source": [
    "from IPython.display import display,update_display,clear_output,Latex,DisplayObject,Markdown\n",
    "\n",
    "from print_functions import print_matrix\n",
    "\n",
    "spectral=widgets.Output()\n",
    "jordan=widgets.Output()\n",
    "\n",
    "accordion = widgets.Accordion(children=[spectral,jordan])\n",
    "\n",
    "accordion.set_title(0,'spectral decomposition')\n",
    "accordion.set_title(1,'jordan decomposition')\n",
    "\n",
    "def display_result(b) :\n",
    "    spectral.clear_output()\n",
    "    jordan.clear_output()\n",
    "    with spectral:\n",
    "        display(Latex('output:'),Latex(r'$$x^2 +y^2=r^2$$'))\n",
    "    with jordan:\n",
    "        display(Latex(print_matrix))\n",
    "    b.description = 'recalculate'\n",
    "    return\n",
    "\n",
    "\n",
    "button = widgets.Button(description=\"calculate\")\n",
    "\n",
    "display(button)\n",
    "display(accordion)\n",
    "button.on_click(display_result)"
   ]
  },
  {
   "cell_type": "code",
   "execution_count": null,
   "metadata": {},
   "outputs": [],
   "source": []
  }
 ],
 "metadata": {
  "kernelspec": {
   "display_name": "Python 3",
   "language": "python",
   "name": "python3"
  },
  "language_info": {
   "codemirror_mode": {
    "name": "ipython",
    "version": 3
   },
   "file_extension": ".py",
   "mimetype": "text/x-python",
   "name": "python",
   "nbconvert_exporter": "python",
   "pygments_lexer": "ipython3",
   "version": "3.8.3"
  }
 },
 "nbformat": 4,
 "nbformat_minor": 4
}
