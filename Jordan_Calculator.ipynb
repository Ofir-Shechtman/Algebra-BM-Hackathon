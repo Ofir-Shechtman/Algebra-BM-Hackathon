{
 "cells": [
  {
   "cell_type": "markdown",
   "metadata": {},
   "source": [
    "# Jordan form calculator\n",
    "this is alpha version, results may vary.\n",
    "there is no support for complex numbers"
   ]
  },
  {
   "cell_type": "code",
   "execution_count": 1,
   "metadata": {},
   "outputs": [
    {
     "data": {
      "text/html": [
       "<style> body { direction: ltr; } </style>"
      ],
      "text/plain": [
       "<IPython.core.display.HTML object>"
      ]
     },
     "metadata": {},
     "output_type": "display_data"
    },
    {
     "data": {
      "application/vnd.jupyter.widget-view+json": {
       "model_id": "41c006e2d86c4ff28df9d51707b8cbfa",
       "version_major": 2,
       "version_minor": 0
      },
      "text/plain": [
       "interactive(children=(IntSlider(value=5, continuous_update=False, description='Matrix Dimension:', layout=Layo…"
      ]
     },
     "metadata": {},
     "output_type": "display_data"
    }
   ],
   "source": [
    "from ipywidgets import interact, interact_manual\n",
    "import ipywidgets as widgets\n",
    "import numpy as np\n",
    "from ipywidgets import GridspecLayout, Layout\n",
    "from IPython.display import HTML, display\n",
    "\n",
    "display(HTML(r'<style> body { direction: ltr; } </style>'))\n",
    "\n",
    "n = None\n",
    "\n",
    "def create_grid(n_features) : \n",
    "    global gs\n",
    "    n=n_features\n",
    "    gs = GridspecLayout(n_features, n_features, layout=Layout(width=f'{n_features*90}px', height='auto'))\n",
    "    for i in range(n_features):\n",
    "        for j in range(n_features):\n",
    "            gs[i, j] = widgets.FloatText(layout=Layout(width='80px', height='auto'))\n",
    "    return gs\n",
    "\n",
    "n_features_slider = widgets.IntSlider(\n",
    "    value=5,\n",
    "    min=2,\n",
    "    max=10,\n",
    "    step=1,\n",
    "    description='Matrix Dimension:',\n",
    "    disabled=False,\n",
    "    continuous_update=False,\n",
    "    orientation='horizontal',\n",
    "    readout=True,\n",
    "    readout_format='d',\n",
    "    layout={'width': '350px'},\n",
    "    style={'description_width': 'initial'}\n",
    ")\n",
    "\n",
    "x=interact(create_grid,n_features=n_features_slider)"
   ]
  },
  {
   "cell_type": "code",
   "execution_count": 2,
   "metadata": {
    "scrolled": true
   },
   "outputs": [],
   "source": [
    "gs_values = []\n",
    "for i in range(n_features_slider.value):\n",
    "    gs_values_row = []\n",
    "    for j in range(n_features_slider.value):\n",
    "        gs_values_row.append(gs[i,j].value)\n",
    "    gs_values.append(gs_values_row)\n",
    "gs_array=np.asarray(gs_values)"
   ]
  },
  {
   "cell_type": "code",
   "execution_count": 3,
   "metadata": {},
   "outputs": [
    {
     "data": {
      "application/vnd.jupyter.widget-view+json": {
       "model_id": "275579aefcba4fefbba449843eef746d",
       "version_major": 2,
       "version_minor": 0
      },
      "text/plain": [
       "Button(description='calculate', style=ButtonStyle())"
      ]
     },
     "metadata": {},
     "output_type": "display_data"
    },
    {
     "data": {
      "application/vnd.jupyter.widget-view+json": {
       "model_id": "97f73a4b003647889fd1f2ef7c2ce6fa",
       "version_major": 2,
       "version_minor": 0
      },
      "text/plain": [
       "Output()"
      ]
     },
     "metadata": {},
     "output_type": "display_data"
    }
   ],
   "source": [
    "from IPython.display import display,update_display,clear_output,Latex,DisplayObject,Markdown\n",
    "\n",
    "from print_functions import *\n",
    "\n",
    "from matrix import Matrix \n",
    "\n",
    "# spectral=widgets.Output()\n",
    "# jordan=widgets.Output()\n",
    "out= widgets.Output()\n",
    "# accordion = widgets.Accordion(children=[spectral,jordan])\n",
    "\n",
    "# accordion.set_title(0,'spectral decomposition')\n",
    "# accordion.set_title(1,'jordan decomposition')\n",
    "\n",
    "m= Matrix(gs_array)\n",
    "\n",
    "def display_result(b) :\n",
    "#     spectral.clear_output()\n",
    "#     jordan.clear_output()\n",
    "    out.clear_output()\n",
    "    d= 'not' if not m.isDiagonal else ''\n",
    "    with out:\n",
    "        display(Latex(f'characteristic polynomial:{get_packed_polynomial_latex(m.charPoly)}'),\n",
    "        Latex(f'minimal polynomial:{get_packed_polynomial_latex(m.minPoly)}'),\n",
    "        Latex(f'A is {d} diagonalizable'),\n",
    "        Latex(f'Jordan normal form is: $J = {print_matrix(m.J)}$'),\n",
    "        Latex(f'P mejardenet is $  {print_matrix(m.P)}$'),\n",
    "        Latex(f'Jordan–Chevalley decomposition:'),\n",
    "        Latex(f'$$S = {print_matrix(m.S)}$$'),\n",
    "        Latex(f'$$N = {print_matrix(m.N)}$$'),\n",
    "               )\n",
    "\n",
    "    b.description = 'recalculate'\n",
    "    return\n",
    "\n",
    "\n",
    "button = widgets.Button(description=\"calculate\")\n",
    "\n",
    "display(button)\n",
    "display(out)\n",
    "button.on_click(display_result)"
   ]
  },
  {
   "cell_type": "code",
   "execution_count": 4,
   "metadata": {},
   "outputs": [
    {
     "data": {
      "text/plain": [
       "array([[0., 5.]])"
      ]
     },
     "execution_count": 4,
     "metadata": {},
     "output_type": "execute_result"
    }
   ],
   "source": [
    "m.charPoly"
   ]
  },
  {
   "cell_type": "code",
   "execution_count": 5,
   "metadata": {},
   "outputs": [],
   "source": [
    "    gs_array = np.array([[7,1,2,2],[1,4,-1,-1],[-2,1,5,-1],[1,1,2,8]])"
   ]
  },
  {
   "cell_type": "code",
   "execution_count": null,
   "metadata": {},
   "outputs": [],
   "source": []
  }
 ],
 "metadata": {
  "kernelspec": {
   "display_name": "Python 3",
   "language": "python",
   "name": "python3"
  },
  "language_info": {
   "codemirror_mode": {
    "name": "ipython",
    "version": 3
   },
   "file_extension": ".py",
   "mimetype": "text/x-python",
   "name": "python",
   "nbconvert_exporter": "python",
   "pygments_lexer": "ipython3",
   "version": "3.8.3"
  }
 },
 "nbformat": 4,
 "nbformat_minor": 4
}
